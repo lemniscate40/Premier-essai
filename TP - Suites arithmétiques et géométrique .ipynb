{
 "cells": [
  {
   "cell_type": "markdown",
   "metadata": {},
   "source": [
    "# <p style=\"text-align:center\";> TP :  Suites arithmétiques et géométriques  </p>"
   ]
  },
  {
   "cell_type": "markdown",
   "metadata": {},
   "source": [
    "**Objectifs :**  \n",
    "* Comprendre et modifier des algorithmes permettant de calculer des termes d'une suite arithmétique ou géométrique.\n",
    "* Comprendre et modifier des algorithmes permettant de calculer la somme des termes d'une suite arithmétique ou géométrique.\n",
    "* Comprendre et modifier des algorithmes permettant de déterminer, à partir de quel rang, les termes d'une suite sont supérieures à une valeur ou aux termes d'une autre suite (algorithme de seuil).  \n",
    "\n",
    "Biensur, nous allons découvrir ces algorithmes à travers les suites arithmétiques ou géométrique mais ces algorithmes sont adaptables à n'importe quels types de suites.  \n",
    "*************"
   ]
  },
  {
   "cell_type": "markdown",
   "metadata": {},
   "source": [
    "## Partie 1 : Calculer des termes d'une suite arithmétique ou géométrique"
   ]
  },
  {
   "cell_type": "markdown",
   "metadata": {},
   "source": [
    "**1.** Considérons le programme ci dessous :"
   ]
  },
  {
   "cell_type": "code",
   "execution_count": 1,
   "metadata": {
    "collapsed": true
   },
   "outputs": [],
   "source": [
    "def u(n):\n",
    "    u=2\n",
    "    for i in range(n):\n",
    "        u=u+3\n",
    "    return u"
   ]
  },
  {
   "cell_type": "markdown",
   "metadata": {},
   "source": [
    "  **a.** Saisir ce programme sur [Python](https://repl.it/repls/UsefulParallelInterchangeability \"Repl.it\").  \n",
    "  Ce site permet de programmer en Python sans installer le logiciel. Si vous voulez enregistrer votre programme, vous serez obliger de vous inscrire.  \n",
    "  **b.** Ce programme permet de calculer des termes de laquelle des 3 suites $(u_n)$ suivantes ?\n",
    "  * Pour $n$ entier : $u_n=n+3$.\n",
    "  * $u_0=2$ et $u_{n+1}=u_n+3$.\n",
    "  * $u_0=2$ et $u_n=u_n+3$.  "
   ]
  },
  {
   "cell_type": "markdown",
   "metadata": {},
   "source": [
    "**c.** Tester ce programme avec $n=2$, $n=4$ et $n=5$. (Penser à exécuter le programme avant de tester les valeurs de $n$ dans la console sinon Python ne reconnaitra pas votre nouvelle fonction).  \n",
    "Noter, dans chaque cas, les valeurs obtenues et vérifier en effectuant les calculs \"à la main\".  \n",
    "Voici ce que j'obtiens, lorsque je teste le programme avec $n=3$ (tester les différentes valeurs de $n$ dans la console) :"
   ]
  },
  {
   "cell_type": "code",
   "execution_count": 2,
   "metadata": {
    "collapsed": false
   },
   "outputs": [
    {
     "data": {
      "text/plain": [
       "11"
      ]
     },
     "execution_count": 2,
     "metadata": {},
     "output_type": "execute_result"
    }
   ],
   "source": [
    "u(3)"
   ]
  },
  {
   "cell_type": "markdown",
   "metadata": {},
   "source": [
    "**d.** A l'aide du programme calculer $u_{10}$, $u_{15}$ et $u_{30}$.  \n",
    "\n",
    "**2.** Adapter, dans chaque cas, le programme précédent pour répondre aux questions.  \n",
    "**a.** Calculer $u_{15}$, $u_{25}$ et $u_{50}$ avec $u_0=-6$ et $u_{n+1}=u_n-0,6$.  \n",
    "**b.** Calculer $u_{12}$, $u_{30}$ et $u_{70}$ avec $u_0=5$ et $u_{n+1}=u_n \\times 3$.  \n",
    "**c.** Calculer $u_{25}$, $u_{50}$ et $u_{100}$ avec $u_1=4$ et $u_{n+1}=u_n+0,5$.  \n",
    "**d.** Déterminer le rang du premier terme de la suite tel que $u_n \\geqslant 50$ avec $u_0=1$ et $u_{n+1}=u_n+2,8$."
   ]
  },
  {
   "cell_type": "markdown",
   "metadata": {},
   "source": [
    "**Exercice**  \n",
    "\n",
    "**1.** Mona place à la banque un capital de 500 € sur un livret à intérêts composés au taux annuel de $1,5\\%$. Cela signifie que chaque année son capital augmente de la valeur des intérêts qui sont calculés sur le capital de l'année précédente.  \n",
    "*a.* On note $u_n$ le capital de Mona $n$ années après avoir déposé son argent sur le livret. Sachant que $u_0=500$.  \n",
    "Démontrer que $u_1=507,5$ et $u_2=515,125$. Calculer $u_3$.  \n",
    "*b.* Quelle est la nature de la suite $(u_n)$ ? On donnera sa raison $q$.  \n",
    "*c.* Exprimer $u_{n+1}$ en fonction de $u_n$.  \n",
    "\n",
    "**2.** A l'aide d'un algorithme, on souhaite pouvoir calculer n'importe quel terme de la suite $(u_n)$.  \n",
    "*a.* Ecrire l'algorithme et le programmer sur [Python](https://repl.it/repls/UsefulParallelInterchangeability \"Repl.it\").  \n",
    "*b.* Caluler le capital de Mona après 5 ans, 10 ans et 15 ans.  \n",
    "\n",
    "**3.** Mona souhaiterait s'acheter une voiture d'occasion à 1500 € en utilisant uniquement son capital disponible.  \n",
    "En modifiant l'algorithme et le programme précédents, déterminer dans combien d'année, Mona pourra s'acheter la voiture.  \n",
    "\n",
    "\n",
    "****"
   ]
  },
  {
   "cell_type": "markdown",
   "metadata": {},
   "source": [
    "# Partie 2 : Sommes des termes d'une suite arithmétique ou géométrique"
   ]
  },
  {
   "cell_type": "markdown",
   "metadata": {},
   "source": [
    "**1.** Considérons le programme ci-dessous :"
   ]
  },
  {
   "cell_type": "code",
   "execution_count": 3,
   "metadata": {
    "collapsed": true
   },
   "outputs": [],
   "source": [
    "def algo():\n",
    "    u=2\n",
    "    s=2\n",
    "    for i in range(5):\n",
    "        u=u+3\n",
    "        s=s+u\n",
    "    return s"
   ]
  },
  {
   "cell_type": "markdown",
   "metadata": {},
   "source": [
    "*a.* Que permet de calculer ce programme ?  \n",
    "*b.* Saisir ce programme sur [Python](https://repl.it/repls/UsefulParallelInterchangeability \"Repl.it\").  \n",
    "*c.* Tester le programme (cette fonction n'a pas de paramètre, vous avez seulement à noter `algo()` dans la console).  \n",
    "Quelle est la valeur en sortie et à quoi correspond-elle ?  \n",
    "\n",
    "**2.** Adapter et utiliser ce programme pour obtenir chacun des résultats suivants :  \n",
    "*a.* Calculer $\\sum_{k=0}^{10} u_k$ avec $u_0=1$ et $u_{n+1}=u_n+3$.  \n",
    "\n",
    "*b.* Calculer $\\sum_{k=0}^{15} u_k$ avec $u_0=3$ et $u_{n+1}=u_n\\times 0,5$.    \n",
    "\n",
    "*c.* calculer $\\sum_{k=12}^{150} u_k$ avec $u_0=-1$ et $u_{n+1}=u_n+5$."
   ]
  },
  {
   "cell_type": "markdown",
   "metadata": {},
   "source": [
    "**Exercice**  \n",
    "\n",
    "Pour préparer une compétition de course à pied, Lisa s'entraîne de façon progressive.  \n",
    "Elle Commence par courir 4 km et augmente chaque jour la distance de 50 m.  \n",
    "**1.** Au bout de combien de jour la distance journalière aura-t-elle triplé ?  \n",
    "*Répondre en utilisant un algorithme et en le programmant sur [Python](https://repl.it/repls/UsefulParallelInterchangeability \"Repl.it\")*.  \n",
    "**2.** Quelle distance totale, en km, aura-t-elle parcourue après 4 semaine d'entraînement ?  \n",
    "*Répondre en utilisant un algorithme et en le programmant sur [Python](https://repl.it/repls/UsefulParallelInterchangeability \"Repl.it\")*. "
   ]
  }
 ],
 "metadata": {
  "kernelspec": {
   "display_name": "Python 3",
   "language": "python",
   "name": "python3"
  },
  "language_info": {
   "codemirror_mode": {
    "name": "ipython",
    "version": 3
   },
   "file_extension": ".py",
   "mimetype": "text/x-python",
   "name": "python",
   "nbconvert_exporter": "python",
   "pygments_lexer": "ipython3",
   "version": "3.6.0"
  }
 },
 "nbformat": 4,
 "nbformat_minor": 2
}
